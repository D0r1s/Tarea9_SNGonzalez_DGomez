{
 "cells": [
  {
   "cell_type": "markdown",
   "metadata": {},
   "source": [
    "<img style=\"float: left; margin: 30px 15px 15px 15px;\" src=\"https://pngimage.net/wp-content/uploads/2018/06/logo-iteso-png-5.png\" width=\"300\" height=\"500\" /> \n",
    "    \n",
    "    \n",
    "### <font color='navy'> Simulación de procesos financieros. \n",
    "\n",
    "**Nombres:** Sean Nicolás González Vázquez y Doris Gomez Contreras.\n",
    "\n",
    "**Fecha:** 5 de noviembre del 2020.\n",
    "\n",
    "**Expediente** : 720083, 713897.\n",
    "**Profesor:** Oscar David Jaramillo Zuluaga.\n",
    "\n",
    "# Tarea 9."
   ]
  },
  {
   "cell_type": "markdown",
   "metadata": {},
   "source": [
    "### El link donde se evidencia el trabajo es el siguiente: [GitHub Repositorio Tarea 9](https://github.com/nicoglez/Tarea9_SNGonzalez_DGomez)"
   ]
  },
  {
   "cell_type": "markdown",
   "metadata": {},
   "source": [
    "## Enunciado de tarea \n",
    "\n",
    "# Ejercicio 1: prueba de chi cuadrada de independencia\n",
    "\n",
    "Para ver si la venta de chips de silicio son independientes del punto del ciclo de negocios en que se encuentre la economía del país se han recogido las ventas semanales de una empresa y datos acerca de la economía del país, y se reportan los siguientes resultados:\n",
    "\n",
    "| Economia -Venta Semanal | Alta | Mediana | Baja | Total |\n",
    "|-------------------------|------|---------|------|-------|\n",
    "| PICO                    | 20   | 7       | 3    | 30    |\n",
    "| ABAJO                   | 30   | 40      | 30   | 100   |\n",
    "| SUBIENDO                | 20   | 8       | 2    | 30    |\n",
    "| BAJANDO                 | 30   | 5       | 5    | 40    |\n",
    "| TOTAL                   | 100  | 60      | 40   | 200   |\n",
    "\n",
    "Realice la prueba de chi-cuadrado para validar la independencia del punto del ciclo de negocios en que se encuentre la economía.\n",
    "\n",
    "# Ejercicio 2: prueba de chi cuadrada de homogeneidad\n",
    "\n",
    "En un estudio a los habitos de television de los ninos, se selecciona una muestra aleatoria de 300 personas (100 ninos y 200 ninas). A cada infante se le pregunta que es mejor the lone ranger, sesame street o los simpson. Y se obtienen los siguientes resultados.\n",
    "\n",
    "|       | Lone Ranger | Sesame Street | The Simpsons | Total |\n",
    "|-------|-------------|---------------|--------------|-------|\n",
    "| Boys  | 50          | 30            | 20           | 100   |\n",
    "| Girls | 50          | 80            | 70           | 200   |\n",
    "| Total | 100         | 110           | 90           | 300   |\n",
    "\n",
    "Realice la prueba de chi-cuadrado para validar la homogeneidad. Las preferencias de los hombres difieren significativa de las ninas, usa 0.05 de nivel de significancia.\n",
    "\n",
    "# Ejercicio 3: prueba de chi cuadrada de bondad ajuste\n",
    "\n",
    "La compañia acme de juguetes imprime tarjetas de beisbol. La compañia dice que 30% de sus cartas son novatos, el 60% veteranos no estrellas y el otro 10% son veteranos estrellas.\n",
    "\n",
    "Suponga que se toma un muestreo aleatorio de 100 cartas que tiene 50 novatos, 45 veteranos y 5 estrellas. Va acorde a lo que dice Acme?. Usa un nivel de significancia del 0.05"
   ]
  },
  {
   "cell_type": "markdown",
   "metadata": {},
   "source": [
    "# Solucion de los Ejercicios"
   ]
  },
  {
   "cell_type": "markdown",
   "metadata": {},
   "source": [
    "\n",
    "# Ejercicio 1: prueba de chi cuadrada de independencia\n",
    "\n",
    "Para ver si la venta de chips de silicio son independientes del punto del ciclo de negocios en que se encuentre la economía del país se han recogido las ventas semanales de una empresa y datos acerca de la economía del país, y se reportan los siguientes resultados:\n",
    "\n",
    "| Economia -Venta Semanal | Alta | Mediana | Baja | Total |\n",
    "|-------------------------|------|---------|------|-------|\n",
    "| PICO                    | 20   | 7       | 3    | 30    |\n",
    "| ABAJO                   | 30   | 40      | 30   | 100   |\n",
    "| SUBIENDO                | 20   | 8       | 2    | 30    |\n",
    "| BAJANDO                 | 30   | 5       | 5    | 40    |\n",
    "| TOTAL                   | 100  | 60      | 40   | 200   |\n",
    "\n",
    "Realice la prueba de chi-cuadrado para validar la independencia del punto del ciclo de negocios en que se encuentre la economía.\n"
   ]
  },
  {
   "cell_type": "markdown",
   "metadata": {},
   "source": [
    "### Solucion Nicolas"
   ]
  },
  {
   "cell_type": "code",
   "execution_count": null,
   "metadata": {},
   "outputs": [],
   "source": []
  },
  {
   "cell_type": "code",
   "execution_count": null,
   "metadata": {},
   "outputs": [],
   "source": []
  },
  {
   "cell_type": "code",
   "execution_count": null,
   "metadata": {},
   "outputs": [],
   "source": []
  },
  {
   "cell_type": "code",
   "execution_count": null,
   "metadata": {},
   "outputs": [],
   "source": []
  },
  {
   "cell_type": "markdown",
   "metadata": {},
   "source": [
    "### Solucion Doris"
   ]
  },
  {
   "cell_type": "code",
   "execution_count": null,
   "metadata": {},
   "outputs": [],
   "source": []
  },
  {
   "cell_type": "code",
   "execution_count": null,
   "metadata": {},
   "outputs": [],
   "source": []
  },
  {
   "cell_type": "code",
   "execution_count": null,
   "metadata": {},
   "outputs": [],
   "source": []
  },
  {
   "cell_type": "code",
   "execution_count": null,
   "metadata": {},
   "outputs": [],
   "source": []
  },
  {
   "cell_type": "markdown",
   "metadata": {},
   "source": [
    "# Ejercicio 2: prueba de chi cuadrada de homogeneidad\n",
    "\n",
    "En un estudio a los habitos de television de los ninos, se selecciona una muestra aleatoria de 300 personas (100 ninos y 200 ninas). A cada infante se le pregunta que es mejor the lone ranger, sesame street o los simpson. Y se obtienen los siguientes resultados.\n",
    "\n",
    "|       | Lone Ranger | Sesame Street | The Simpsons | Total |\n",
    "|-------|-------------|---------------|--------------|-------|\n",
    "| Boys  | 50          | 30            | 20           | 100   |\n",
    "| Girls | 50          | 80            | 70           | 200   |\n",
    "| Total | 100         | 110           | 90           | 300   |\n",
    "\n",
    "Realice la prueba de chi-cuadrado para validar la homogeneidad. Las preferencias de los hombres difieren significativa de las ninas, usa 0.05 de nivel de significancia."
   ]
  },
  {
   "cell_type": "markdown",
   "metadata": {},
   "source": [
    "### Solucion Nicolas"
   ]
  },
  {
   "cell_type": "code",
   "execution_count": null,
   "metadata": {},
   "outputs": [],
   "source": []
  },
  {
   "cell_type": "code",
   "execution_count": null,
   "metadata": {},
   "outputs": [],
   "source": []
  },
  {
   "cell_type": "code",
   "execution_count": null,
   "metadata": {},
   "outputs": [],
   "source": []
  },
  {
   "cell_type": "code",
   "execution_count": null,
   "metadata": {},
   "outputs": [],
   "source": []
  },
  {
   "cell_type": "markdown",
   "metadata": {},
   "source": [
    "### Solucion Doris"
   ]
  },
  {
   "cell_type": "code",
   "execution_count": null,
   "metadata": {},
   "outputs": [],
   "source": []
  },
  {
   "cell_type": "code",
   "execution_count": null,
   "metadata": {},
   "outputs": [],
   "source": []
  },
  {
   "cell_type": "code",
   "execution_count": null,
   "metadata": {},
   "outputs": [],
   "source": []
  },
  {
   "cell_type": "code",
   "execution_count": null,
   "metadata": {},
   "outputs": [],
   "source": []
  },
  {
   "cell_type": "markdown",
   "metadata": {},
   "source": [
    "\n",
    "# Ejercicio 3: prueba de chi cuadrada de bondad ajuste\n",
    "\n",
    "La compañia acme de juguetes imprime tarjetas de beisbol. La compañia dice que 30% de sus cartas son novatos, el 60% veteranos no estrellas y el otro 10% son veteranos estrellas.\n",
    "\n",
    "Suponga que se toma un muestreo aleatorio de 100 cartas que tiene 50 novatos, 45 veteranos y 5 estrellas. Va acorde a lo que dice Acme?. Usa un nivel de significancia del 0.05"
   ]
  },
  {
   "cell_type": "markdown",
   "metadata": {},
   "source": [
    "### Solucion Nicolas"
   ]
  },
  {
   "cell_type": "code",
   "execution_count": null,
   "metadata": {},
   "outputs": [],
   "source": []
  },
  {
   "cell_type": "code",
   "execution_count": null,
   "metadata": {},
   "outputs": [],
   "source": []
  },
  {
   "cell_type": "code",
   "execution_count": null,
   "metadata": {},
   "outputs": [],
   "source": []
  },
  {
   "cell_type": "code",
   "execution_count": null,
   "metadata": {},
   "outputs": [],
   "source": []
  },
  {
   "cell_type": "markdown",
   "metadata": {},
   "source": [
    "### Solucion Doris"
   ]
  },
  {
   "cell_type": "code",
   "execution_count": null,
   "metadata": {},
   "outputs": [],
   "source": []
  },
  {
   "cell_type": "code",
   "execution_count": null,
   "metadata": {},
   "outputs": [],
   "source": []
  },
  {
   "cell_type": "code",
   "execution_count": null,
   "metadata": {},
   "outputs": [],
   "source": []
  },
  {
   "cell_type": "code",
   "execution_count": null,
   "metadata": {},
   "outputs": [],
   "source": []
  }
 ],
 "metadata": {
  "kernelspec": {
   "display_name": "Python 3",
   "language": "python",
   "name": "python3"
  },
  "language_info": {
   "codemirror_mode": {
    "name": "ipython",
    "version": 3
   },
   "file_extension": ".py",
   "mimetype": "text/x-python",
   "name": "python",
   "nbconvert_exporter": "python",
   "pygments_lexer": "ipython3",
   "version": "3.8.3"
  }
 },
 "nbformat": 4,
 "nbformat_minor": 2
}
