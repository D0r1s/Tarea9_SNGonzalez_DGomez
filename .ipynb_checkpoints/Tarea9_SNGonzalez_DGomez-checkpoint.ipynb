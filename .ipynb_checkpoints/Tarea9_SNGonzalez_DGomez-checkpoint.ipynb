{
 "cells": [
  {
   "cell_type": "markdown",
   "metadata": {},
   "source": [
    "<img style=\"float: left; margin: 30px 15px 15px 15px;\" src=\"https://pngimage.net/wp-content/uploads/2018/06/logo-iteso-png-5.png\" width=\"300\" height=\"500\" /> \n",
    "    \n",
    "    \n",
    "### <font color='navy'> Simulación de procesos financieros. \n",
    "\n",
    "**Nombres:** Sean Nicolás González Vázquez y Doris Gomez Contreras.\n",
    "\n",
    "**Fecha:** 5 de noviembre del 2020.\n",
    "\n",
    "**Expediente** : 720083, 713897.\n",
    "**Profesor:** Oscar David Jaramillo Zuluaga.\n",
    "\n",
    "# Tarea 9."
   ]
  },
  {
   "cell_type": "markdown",
   "metadata": {},
   "source": [
    "### El link donde se evidencia el trabajo es el siguiente: [GitHub Repositorio Tarea 9](https://github.com/nicoglez/Tarea9_SNGonzalez_DGomez)"
   ]
  },
  {
   "cell_type": "code",
   "execution_count": 4,
   "metadata": {},
   "outputs": [],
   "source": [
    "# importacion de librerias\n",
    "import numpy as np\n",
    "import pandas as pd\n",
    "import scipy.stats as st"
   ]
  },
  {
   "cell_type": "markdown",
   "metadata": {},
   "source": [
    "## Enunciado de tarea \n",
    "\n",
    "# Ejercicio 1: prueba de chi cuadrada de independencia\n",
    "\n",
    "Para ver si la venta de chips de silicio son independientes del punto del ciclo de negocios en que se encuentre la economía del país se han recogido las ventas semanales de una empresa y datos acerca de la economía del país, y se reportan los siguientes resultados:\n",
    "\n",
    "| Economia -Venta Semanal | Alta | Mediana | Baja | Total |\n",
    "|-------------------------|------|---------|------|-------|\n",
    "| PICO                    | 20   | 7       | 3    | 30    |\n",
    "| ABAJO                   | 30   | 40      | 30   | 100   |\n",
    "| SUBIENDO                | 20   | 8       | 2    | 30    |\n",
    "| BAJANDO                 | 30   | 5       | 5    | 40    |\n",
    "| TOTAL                   | 100  | 60      | 40   | 200   |\n",
    "\n",
    "Realice la prueba de chi-cuadrado para validar la independencia del punto del ciclo de negocios en que se encuentre la economía.\n",
    "\n",
    "# Ejercicio 2: prueba de chi cuadrada de homogeneidad\n",
    "\n",
    "En un estudio a los habitos de television de los ninos, se selecciona una muestra aleatoria de 300 personas (100 ninos y 200 ninas). A cada infante se le pregunta que es mejor the lone ranger, sesame street o los simpson. Y se obtienen los siguientes resultados.\n",
    "\n",
    "|       | Lone Ranger | Sesame Street | The Simpsons | Total |\n",
    "|-------|-------------|---------------|--------------|-------|\n",
    "| Boys  | 50          | 30            | 20           | 100   |\n",
    "| Girls | 50          | 80            | 70           | 200   |\n",
    "| Total | 100         | 110           | 90           | 300   |\n",
    "\n",
    "Realice la prueba de chi-cuadrado para validar la homogeneidad. Las preferencias de los hombres difieren significativa de las ninas, usa 0.05 de nivel de significancia.\n",
    "\n",
    "# Ejercicio 3: prueba de chi cuadrada de bondad ajuste\n",
    "\n",
    "La compañia acme de juguetes imprime tarjetas de beisbol. La compañia dice que 30% de sus cartas son novatos, el 60% veteranos no estrellas y el otro 10% son veteranos estrellas.\n",
    "\n",
    "Suponga que se toma un muestreo aleatorio de 100 cartas que tiene 50 novatos, 45 veteranos y 5 estrellas. Va acorde a lo que dice Acme?. Usa un nivel de significancia del 0.05"
   ]
  },
  {
   "cell_type": "markdown",
   "metadata": {},
   "source": [
    "# Solucion de los Ejercicios"
   ]
  },
  {
   "cell_type": "markdown",
   "metadata": {},
   "source": [
    "\n",
    "# Ejercicio 1: prueba de chi cuadrada de independencia\n",
    "\n",
    "Para ver si la venta de chips de silicio son independientes del punto del ciclo de negocios en que se encuentre la economía del país se han recogido las ventas semanales de una empresa y datos acerca de la economía del país, y se reportan los siguientes resultados:\n",
    "\n",
    "| Economia -Venta Semanal | Alta | Mediana | Baja | Total |\n",
    "|-------------------------|------|---------|------|-------|\n",
    "| PICO                    | 20   | 7       | 3    | 30    |\n",
    "| ABAJO                   | 30   | 40      | 30   | 100   |\n",
    "| SUBIENDO                | 20   | 8       | 2    | 30    |\n",
    "| BAJANDO                 | 30   | 5       | 5    | 40    |\n",
    "| TOTAL                   | 100  | 60      | 40   | 200   |\n",
    "\n",
    "Realice la prueba de chi-cuadrado para validar la independencia del punto del ciclo de negocios en que se encuentre la economía.\n"
   ]
  },
  {
   "cell_type": "markdown",
   "metadata": {},
   "source": [
    "### Solucion Nicolas"
   ]
  },
  {
   "cell_type": "markdown",
   "metadata": {},
   "source": [
    "Entonces, para realizar la prueba de chi-cuadrada para validar la independencia de ambos eventos, establecemos que:\n",
    "\n",
    "* Pa = Proporciones de ventas altas en economia pico \n",
    "* Pm = Proporcion de ventas medianas en economia pico \n",
    "* Pb = Proporcion de ventas bajas en economia pico \n",
    "\n",
    "Analogamente con los demas estados de la economia. Procedemos a establecer las hipotesis.\n",
    "\n",
    "$$H_0: Pa = Pm = Pb$$ <center>(Las ventas son independentes del ciclo economico)\n",
    "$$H_1: Pa , Pm , Pb$$  (Las ventas NO son independentes del ciclo economico)<center>"
   ]
  },
  {
   "cell_type": "markdown",
   "metadata": {},
   "source": [
    "**Obtener Grados de Libertad**\n",
    "\n",
    "GDL = (núm. Renglones – 1)(núm. Columnas - 1) = (4-1)(3-1) = 6"
   ]
  },
  {
   "cell_type": "code",
   "execution_count": 5,
   "metadata": {},
   "outputs": [
    {
     "data": {
      "text/html": [
       "<div>\n",
       "<style scoped>\n",
       "    .dataframe tbody tr th:only-of-type {\n",
       "        vertical-align: middle;\n",
       "    }\n",
       "\n",
       "    .dataframe tbody tr th {\n",
       "        vertical-align: top;\n",
       "    }\n",
       "\n",
       "    .dataframe thead th {\n",
       "        text-align: right;\n",
       "    }\n",
       "</style>\n",
       "<table border=\"1\" class=\"dataframe\">\n",
       "  <thead>\n",
       "    <tr style=\"text-align: right;\">\n",
       "      <th></th>\n",
       "      <th>Alta</th>\n",
       "      <th>Mediana</th>\n",
       "      <th>Baja</th>\n",
       "      <th>Total</th>\n",
       "    </tr>\n",
       "  </thead>\n",
       "  <tbody>\n",
       "    <tr>\n",
       "      <th>PICO</th>\n",
       "      <td>20</td>\n",
       "      <td>7</td>\n",
       "      <td>3</td>\n",
       "      <td>30.0</td>\n",
       "    </tr>\n",
       "    <tr>\n",
       "      <th>ABAJO</th>\n",
       "      <td>30</td>\n",
       "      <td>40</td>\n",
       "      <td>30</td>\n",
       "      <td>100.0</td>\n",
       "    </tr>\n",
       "    <tr>\n",
       "      <th>SUBIENDO</th>\n",
       "      <td>20</td>\n",
       "      <td>8</td>\n",
       "      <td>2</td>\n",
       "      <td>30.0</td>\n",
       "    </tr>\n",
       "    <tr>\n",
       "      <th>BAJANDO</th>\n",
       "      <td>30</td>\n",
       "      <td>5</td>\n",
       "      <td>5</td>\n",
       "      <td>40.0</td>\n",
       "    </tr>\n",
       "    <tr>\n",
       "      <th>TOTAL ECONOMIA</th>\n",
       "      <td>100</td>\n",
       "      <td>60</td>\n",
       "      <td>40</td>\n",
       "      <td>200.0</td>\n",
       "    </tr>\n",
       "  </tbody>\n",
       "</table>\n",
       "</div>"
      ],
      "text/plain": [
       "               Alta Mediana Baja  Total\n",
       "PICO             20       7    3   30.0\n",
       "ABAJO            30      40   30  100.0\n",
       "SUBIENDO         20       8    2   30.0\n",
       "BAJANDO          30       5    5   40.0\n",
       "TOTAL ECONOMIA  100      60   40  200.0"
      ]
     },
     "execution_count": 5,
     "metadata": {},
     "output_type": "execute_result"
    }
   ],
   "source": [
    "# definir los grados\n",
    "GDL = 6\n",
    "\n",
    "# Generar data frame con datos\n",
    "datos = pd.DataFrame(index = ['PICO', 'ABAJO', 'SUBIENDO', 'BAJANDO', 'TOTAL ECONOMIA'],\n",
    "                     columns = ['Alta', 'Mediana', 'Baja', 'Total'])\n",
    "datos.iloc[0,:-1] = [20,7,3]\n",
    "datos.iloc[1,:-1] = [30,40,30]\n",
    "datos.iloc[2,:-1] = [20,8,2]\n",
    "datos.iloc[3,:-1] = [30,5,5]\n",
    "datos.loc['TOTAL ECONOMIA'] = datos.sum(axis = 0)\n",
    "datos['Total'] = datos.sum(axis = 1)\n",
    "datos"
   ]
  },
  {
   "cell_type": "code",
   "execution_count": 6,
   "metadata": {},
   "outputs": [
    {
     "data": {
      "text/plain": [
       "(array([15.0, 9.0, 6.0, 50.0, 30.0, 20.0, 15.0, 9.0, 6.0, 20.0, 12.0, 8.0],\n",
       "       dtype=object),\n",
       " array([20, 7, 3, 30, 40, 30, 20, 8, 2, 30, 5, 5], dtype=object))"
      ]
     },
     "execution_count": 6,
     "metadata": {},
     "output_type": "execute_result"
    }
   ],
   "source": [
    "# encontrar la observacion esperada y la observada \n",
    "P = datos.iloc[:4,3]/datos.iloc[-1,-1]\n",
    "f_o = datos.loc[datos.index!='TOTAL ECONOMIA',datos.columns!='Total'].values.flatten()\n",
    "f_e = np.concatenate([datos.iloc[-1,:-1]*P[0],datos.iloc[-1,:-1]*P[1],datos.iloc[-1,:-1]*P[2],datos.iloc[-1,:-1]*P[3]])\n",
    "\n",
    "f_e, f_o"
   ]
  },
  {
   "cell_type": "code",
   "execution_count": 7,
   "metadata": {},
   "outputs": [
    {
     "name": "stdout",
     "output_type": "stream",
     "text": [
      "Valor de chi cuadrado =  34.59722222222222 ,p-value de la prueba= 1.810412864466741e-06\n",
      "Estadístico de Ji =  10.644640675668422\n"
     ]
    }
   ],
   "source": [
    "# Metodo de chi cuadrado\n",
    "x2 = st.chisquare(f_o,f_e,ddof=GDL)\n",
    "print('Valor de chi cuadrado = ',list(x2)[0],',p-value de la prueba=',list(x2)[1])\n",
    "\n",
    "Ji = st.chi2.ppf(q = 0.9,df=GDL)\n",
    "print('Estadístico de Ji = ',Ji)"
   ]
  },
  {
   "cell_type": "markdown",
   "metadata": {},
   "source": [
    "### **Conclusion**\n",
    "\n",
    "Se rechaza la hipotesis nula, es decir las ventas de chips de silicio **NO** son independientes del punto del ciclo de negocios en que se encuentre la economía del país. Se llego a esta conclusion debido a que el p_value de la prueba de chi-cuadrada fue de 1.810412864466741e-06, al ser muy pequeña siendo menor que un nivel de significancia de 0.1 o 0.05, se rechaza la hipotesis, ademas el valor del chi cuadrado fue de aproximadamente 34.59, superando por mucho el estadistico de chi de 10.64. "
   ]
  },
  {
   "cell_type": "markdown",
   "metadata": {},
   "source": [
    "### Solucion Doris"
   ]
  },
  {
   "cell_type": "code",
   "execution_count": null,
   "metadata": {},
   "outputs": [],
   "source": []
  },
  {
   "cell_type": "code",
   "execution_count": null,
   "metadata": {},
   "outputs": [],
   "source": []
  },
  {
   "cell_type": "code",
   "execution_count": null,
   "metadata": {},
   "outputs": [],
   "source": []
  },
  {
   "cell_type": "code",
   "execution_count": null,
   "metadata": {},
   "outputs": [],
   "source": []
  },
  {
   "cell_type": "markdown",
   "metadata": {},
   "source": [
    "# Ejercicio 2: prueba de chi cuadrada de homogeneidad\n",
    "\n",
    "En un estudio a los habitos de television de los ninos, se selecciona una muestra aleatoria de 300 personas (100 ninos y 200 ninas). A cada infante se le pregunta que es mejor the lone ranger, sesame street o los simpson. Y se obtienen los siguientes resultados.\n",
    "\n",
    "|       | Lone Ranger | Sesame Street | The Simpsons | Total |\n",
    "|-------|-------------|---------------|--------------|-------|\n",
    "| Boys  | 50          | 30            | 20           | 100   |\n",
    "| Girls | 50          | 80            | 70           | 200   |\n",
    "| Total | 100         | 110           | 90           | 300   |\n",
    "\n",
    "Realice la prueba de chi-cuadrado para validar la homogeneidad. Las preferencias de los hombres difieren significativa de las ninas, usa 0.05 de nivel de significancia."
   ]
  },
  {
   "cell_type": "markdown",
   "metadata": {},
   "source": [
    "### Solucion Nicolas"
   ]
  },
  {
   "cell_type": "markdown",
   "metadata": {},
   "source": [
    "Las hipotesis que se definen son las siguientes:\n",
    "\n",
    "*Hipotesis Nulas*  \n",
    "\n",
    "H0: A los niños les gustan lone ranger =  A las niñas les gustan lone ranger  \n",
    "H0: A los niños les gustan sesame street =  A las niñas les gustan lone ranger  \n",
    "H0: A los niños les gustan sesame street =  A las niñas les gustan los simpsons\n",
    "\n",
    "H1: No se cumple al menos una de las hipotesis nulas.\n",
    "\n",
    "*Obtener grados de libertad*\n",
    "\n",
    "GDL = (2-1)(3-1) = 2"
   ]
  },
  {
   "cell_type": "code",
   "execution_count": 8,
   "metadata": {},
   "outputs": [
    {
     "data": {
      "text/html": [
       "<div>\n",
       "<style scoped>\n",
       "    .dataframe tbody tr th:only-of-type {\n",
       "        vertical-align: middle;\n",
       "    }\n",
       "\n",
       "    .dataframe tbody tr th {\n",
       "        vertical-align: top;\n",
       "    }\n",
       "\n",
       "    .dataframe thead th {\n",
       "        text-align: right;\n",
       "    }\n",
       "</style>\n",
       "<table border=\"1\" class=\"dataframe\">\n",
       "  <thead>\n",
       "    <tr style=\"text-align: right;\">\n",
       "      <th></th>\n",
       "      <th>Lone Ranger</th>\n",
       "      <th>Sesame Street</th>\n",
       "      <th>The Simpsons</th>\n",
       "      <th>Total _</th>\n",
       "    </tr>\n",
       "  </thead>\n",
       "  <tbody>\n",
       "    <tr>\n",
       "      <th>Boys</th>\n",
       "      <td>50</td>\n",
       "      <td>30</td>\n",
       "      <td>20</td>\n",
       "      <td>100.0</td>\n",
       "    </tr>\n",
       "    <tr>\n",
       "      <th>Girls</th>\n",
       "      <td>50</td>\n",
       "      <td>80</td>\n",
       "      <td>70</td>\n",
       "      <td>200.0</td>\n",
       "    </tr>\n",
       "    <tr>\n",
       "      <th>Total 1</th>\n",
       "      <td>100</td>\n",
       "      <td>110</td>\n",
       "      <td>90</td>\n",
       "      <td>300.0</td>\n",
       "    </tr>\n",
       "  </tbody>\n",
       "</table>\n",
       "</div>"
      ],
      "text/plain": [
       "        Lone Ranger Sesame Street The Simpsons  Total _\n",
       "Boys             50            30           20    100.0\n",
       "Girls            50            80           70    200.0\n",
       "Total 1         100           110           90    300.0"
      ]
     },
     "execution_count": 8,
     "metadata": {},
     "output_type": "execute_result"
    }
   ],
   "source": [
    "# Definir grados de libertad\n",
    "GDL2 = 2\n",
    "\n",
    "# Crear data frame con datos\n",
    "datos2 = pd.DataFrame(index = ['Boys', 'Girls', 'Total 1'],\n",
    "                      columns = ['Lone Ranger', 'Sesame Street', 'The Simpsons', 'Total _'])\n",
    "datos2.iloc[0,:-1] = (50,30,20)\n",
    "datos2.iloc[1,:-1] = (50,80,70)\n",
    "datos2['Total _'] = datos2.sum(axis = 1)\n",
    "datos2.loc['Total 1'] = datos2.sum(axis = 0)\n",
    "datos2\n"
   ]
  },
  {
   "cell_type": "code",
   "execution_count": 9,
   "metadata": {},
   "outputs": [
    {
     "data": {
      "text/plain": [
       "(array([50, 30, 20, 50, 80, 70], dtype=object),\n",
       " array([33.33333333333333, 36.666666666666664, 30.0, 66.66666666666666,\n",
       "        73.33333333333333, 60.0], dtype=object))"
      ]
     },
     "execution_count": 9,
     "metadata": {},
     "output_type": "execute_result"
    }
   ],
   "source": [
    "# encontrar la observacion esperada y la observada \n",
    "P2 = datos2.iloc[:2,3]/datos2.iloc[-1,-1]\n",
    "f_o2 = datos2.loc[datos2.index!='Total 1',datos2.columns!='Total _'].values.flatten()\n",
    "f_e2 = np.concatenate([datos2.iloc[-1,:-1]*P2[0],datos2.iloc[-1,:-1]*P2[1]])\n",
    "\n",
    "f_o2, f_e2"
   ]
  },
  {
   "cell_type": "code",
   "execution_count": 10,
   "metadata": {},
   "outputs": [
    {
     "name": "stdout",
     "output_type": "stream",
     "text": [
      "Valor de chi cuadrado =  19.31818181818182 ,p-value de la prueba= 0.00023495405224903583\n",
      "Estadístico de Ji =  5.991464547107979\n"
     ]
    }
   ],
   "source": [
    "# Metodo de chi cuadrada\n",
    "x2 = st.chisquare(f_o2,f_e2,ddof=GDL2)\n",
    "print('Valor de chi cuadrado = ',list(x2)[0],',p-value de la prueba=',list(x2)[1])\n",
    "\n",
    "Ji = st.chi2.ppf(q = 0.95,df=GDL2)\n",
    "print('Estadístico de Ji = ',Ji)"
   ]
  },
  {
   "cell_type": "markdown",
   "metadata": {},
   "source": [
    "### **Conclusion**\n",
    "\n",
    "Se rechaza la hipotesis nula, es decir las preferencias de los niños **NO** son homogeneas respecto a las de las niñas (son significativamente diferentes). Se llego a esta conclusion debido a que el p_value de la prueba de chi-cuadrada fue de 0.0023,y al ser muy pequeña con respecto al nivel de significancia pre-establecido de 0.05, se rechaza la hipotesis, ademas el valor del chi cuadrado fue de aproximadamente 19.3181, superando al estadistico de chi de 5.991464. "
   ]
  },
  {
   "cell_type": "markdown",
   "metadata": {},
   "source": [
    "### Solucion Doris"
   ]
  },
  {
   "cell_type": "code",
   "execution_count": null,
   "metadata": {},
   "outputs": [],
   "source": []
  },
  {
   "cell_type": "code",
   "execution_count": null,
   "metadata": {},
   "outputs": [],
   "source": []
  },
  {
   "cell_type": "code",
   "execution_count": null,
   "metadata": {},
   "outputs": [],
   "source": []
  },
  {
   "cell_type": "code",
   "execution_count": null,
   "metadata": {},
   "outputs": [],
   "source": []
  },
  {
   "cell_type": "markdown",
   "metadata": {},
   "source": [
    "\n",
    "# Ejercicio 3: prueba de chi cuadrada de bondad ajuste\n",
    "\n",
    "La compañia acme de juguetes imprime tarjetas de beisbol. La compañia dice que 30% de sus cartas son novatos, el 60% veteranos no estrellas y el otro 10% son veteranos estrellas.\n",
    "\n",
    "Suponga que se toma un muestreo aleatorio de 100 cartas que tiene 50 novatos, 45 veteranos y 5 estrellas. Va acorde a lo que dice Acme?. Usa un nivel de significancia del 0.05"
   ]
  },
  {
   "cell_type": "markdown",
   "metadata": {},
   "source": [
    "### Solucion Nicolas"
   ]
  },
  {
   "cell_type": "markdown",
   "metadata": {},
   "source": [
    "*Definir Hipotesis*\n",
    "\n",
    "H0 = La proporcion de como se distribuye cada carta es de 30% novatos, 60% veteranos, y 10% estrellas.\n",
    "\n",
    "H1 = La proporcion se distribuye de forma diferente a lo que establece Acme\n",
    "\n",
    "*Encontrar Grados de Libertad*\n",
    "\n",
    "GDL = (k - 1); donde k es el numero de clasificaciones\n",
    "GDL = 3 - 1 = 2\n"
   ]
  },
  {
   "cell_type": "code",
   "execution_count": 11,
   "metadata": {},
   "outputs": [],
   "source": [
    "# Definir grados de libertad\n",
    "GDL3 = 2\n",
    "\n",
    "# Definir datos iniciales\n",
    "n = 100 # tamano de la muestra\n",
    "esp = np.array([0.30,0.60,0.10])\n",
    "muestreo = np.array([50,45,5])"
   ]
  },
  {
   "cell_type": "code",
   "execution_count": 12,
   "metadata": {},
   "outputs": [
    {
     "data": {
      "text/plain": [
       "(array([30., 60., 10.]), array([50, 45,  5]))"
      ]
     },
     "execution_count": 12,
     "metadata": {},
     "output_type": "execute_result"
    }
   ],
   "source": [
    "# encontrar las observaciones esperadas y las observadas\n",
    "f_e3 = esp * n\n",
    "f_o3 = muestreo\n",
    "\n",
    "f_e3, f_o3"
   ]
  },
  {
   "cell_type": "code",
   "execution_count": 13,
   "metadata": {},
   "outputs": [
    {
     "name": "stdout",
     "output_type": "stream",
     "text": [
      "Valor de chi cuadrado =  19.583333333333336 ,p-value de la prueba= nan\n",
      "Estadístico de Ji =  5.991464547107979\n"
     ]
    }
   ],
   "source": [
    "# Metodo de chi cuadrada\n",
    "x2 = st.chisquare(f_o3,f_e3,ddof=GDL3)\n",
    "print('Valor de chi cuadrado = ',list(x2)[0],',p-value de la prueba=',list(x2)[1])\n",
    "\n",
    "Ji = st.chi2.ppf(q = 0.95,df=GDL3)\n",
    "print('Estadístico de Ji = ',Ji)"
   ]
  },
  {
   "cell_type": "markdown",
   "metadata": {},
   "source": [
    "### **Conclusion**\n",
    "\n",
    "Se rechaza la hipotesis nula, es decir las cartas de beisbol **NO** son se distribuyen de la forma que dice Acme Toy (de acuerdo al muestreo tomado). Se llego a esta conclusion debido a que el p_value de la prueba de chi-cuadrada fue de casi 0,y al ser muy pequeña con respecto al nivel de significancia pre-establecido de 0.05, se rechaza la hipotesis, ademas el valor del chi cuadrado fue de aproximadamente 19.58, superando al estadistico de chi de 5.991464. "
   ]
  },
  {
   "cell_type": "markdown",
   "metadata": {},
   "source": [
    "### Solucion Doris"
   ]
  },
  {
   "cell_type": "code",
   "execution_count": null,
   "metadata": {},
   "outputs": [],
   "source": []
  },
  {
   "cell_type": "code",
   "execution_count": null,
   "metadata": {},
   "outputs": [],
   "source": []
  },
  {
   "cell_type": "code",
   "execution_count": null,
   "metadata": {},
   "outputs": [],
   "source": []
  },
  {
   "cell_type": "code",
   "execution_count": null,
   "metadata": {},
   "outputs": [],
   "source": []
  }
 ],
 "metadata": {
  "kernelspec": {
   "display_name": "Python 3",
   "language": "python",
   "name": "python3"
  },
  "language_info": {
   "codemirror_mode": {
    "name": "ipython",
    "version": 3
   },
   "file_extension": ".py",
   "mimetype": "text/x-python",
   "name": "python",
   "nbconvert_exporter": "python",
   "pygments_lexer": "ipython3",
   "version": "3.8.3"
  }
 },
 "nbformat": 4,
 "nbformat_minor": 2
}
